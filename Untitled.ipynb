{
 "cells": [
  {
   "cell_type": "code",
   "execution_count": 1,
   "id": "f25b93e5-0169-4f13-b5f0-43b4a2f0663f",
   "metadata": {},
   "outputs": [],
   "source": [
    "import numpy as np\n",
    "import pandas as pd\n",
    "import seaborn as sns\n",
    "import matplotlib.pyplot as plt"
   ]
  },
  {
   "cell_type": "code",
   "execution_count": 2,
   "id": "44432678-cc74-4e07-bb9f-4643fd2d28d0",
   "metadata": {},
   "outputs": [],
   "source": [
    "data = pd.read_csv(\"global air pollution dataset.csv\")"
   ]
  },
  {
   "cell_type": "markdown",
   "id": "7d3f50a4-8ab6-4bc7-9949-f210cdfb4a7c",
   "metadata": {},
   "source": [
    "## Data Definition"
   ]
  },
  {
   "cell_type": "code",
   "execution_count": 3,
   "id": "58119301-ce12-4514-9e81-e8ee7059107c",
   "metadata": {},
   "outputs": [
    {
     "name": "stdout",
     "output_type": "stream",
     "text": [
      "<class 'pandas.core.frame.DataFrame'>\n",
      "RangeIndex: 23463 entries, 0 to 23462\n",
      "Data columns (total 12 columns):\n",
      " #   Column              Non-Null Count  Dtype \n",
      "---  ------              --------------  ----- \n",
      " 0   Country             23036 non-null  object\n",
      " 1   City                23462 non-null  object\n",
      " 2   AQI Value           23463 non-null  int64 \n",
      " 3   AQI Category        23463 non-null  object\n",
      " 4   CO AQI Value        23463 non-null  int64 \n",
      " 5   CO AQI Category     23463 non-null  object\n",
      " 6   Ozone AQI Value     23463 non-null  int64 \n",
      " 7   Ozone AQI Category  23463 non-null  object\n",
      " 8   NO2 AQI Value       23463 non-null  int64 \n",
      " 9   NO2 AQI Category    23463 non-null  object\n",
      " 10  PM2.5 AQI Value     23463 non-null  int64 \n",
      " 11  PM2.5 AQI Category  23463 non-null  object\n",
      "dtypes: int64(5), object(7)\n",
      "memory usage: 2.1+ MB\n"
     ]
    }
   ],
   "source": [
    "data.info()"
   ]
  },
  {
   "cell_type": "code",
   "execution_count": 4,
   "id": "574510fa-6e4d-42b4-99fa-7d8f3ad891fb",
   "metadata": {},
   "outputs": [
    {
     "data": {
      "text/html": [
       "<div>\n",
       "<style scoped>\n",
       "    .dataframe tbody tr th:only-of-type {\n",
       "        vertical-align: middle;\n",
       "    }\n",
       "\n",
       "    .dataframe tbody tr th {\n",
       "        vertical-align: top;\n",
       "    }\n",
       "\n",
       "    .dataframe thead th {\n",
       "        text-align: right;\n",
       "    }\n",
       "</style>\n",
       "<table border=\"1\" class=\"dataframe\">\n",
       "  <thead>\n",
       "    <tr style=\"text-align: right;\">\n",
       "      <th></th>\n",
       "      <th>Country</th>\n",
       "      <th>City</th>\n",
       "      <th>AQI Value</th>\n",
       "      <th>AQI Category</th>\n",
       "      <th>CO AQI Value</th>\n",
       "      <th>CO AQI Category</th>\n",
       "      <th>Ozone AQI Value</th>\n",
       "      <th>Ozone AQI Category</th>\n",
       "      <th>NO2 AQI Value</th>\n",
       "      <th>NO2 AQI Category</th>\n",
       "      <th>PM2.5 AQI Value</th>\n",
       "      <th>PM2.5 AQI Category</th>\n",
       "    </tr>\n",
       "  </thead>\n",
       "  <tbody>\n",
       "    <tr>\n",
       "      <th>0</th>\n",
       "      <td>Russian Federation</td>\n",
       "      <td>Praskoveya</td>\n",
       "      <td>51</td>\n",
       "      <td>Moderate</td>\n",
       "      <td>1</td>\n",
       "      <td>Good</td>\n",
       "      <td>36</td>\n",
       "      <td>Good</td>\n",
       "      <td>0</td>\n",
       "      <td>Good</td>\n",
       "      <td>51</td>\n",
       "      <td>Moderate</td>\n",
       "    </tr>\n",
       "    <tr>\n",
       "      <th>1</th>\n",
       "      <td>Brazil</td>\n",
       "      <td>Presidente Dutra</td>\n",
       "      <td>41</td>\n",
       "      <td>Good</td>\n",
       "      <td>1</td>\n",
       "      <td>Good</td>\n",
       "      <td>5</td>\n",
       "      <td>Good</td>\n",
       "      <td>1</td>\n",
       "      <td>Good</td>\n",
       "      <td>41</td>\n",
       "      <td>Good</td>\n",
       "    </tr>\n",
       "    <tr>\n",
       "      <th>2</th>\n",
       "      <td>Italy</td>\n",
       "      <td>Priolo Gargallo</td>\n",
       "      <td>66</td>\n",
       "      <td>Moderate</td>\n",
       "      <td>1</td>\n",
       "      <td>Good</td>\n",
       "      <td>39</td>\n",
       "      <td>Good</td>\n",
       "      <td>2</td>\n",
       "      <td>Good</td>\n",
       "      <td>66</td>\n",
       "      <td>Moderate</td>\n",
       "    </tr>\n",
       "    <tr>\n",
       "      <th>3</th>\n",
       "      <td>Poland</td>\n",
       "      <td>Przasnysz</td>\n",
       "      <td>34</td>\n",
       "      <td>Good</td>\n",
       "      <td>1</td>\n",
       "      <td>Good</td>\n",
       "      <td>34</td>\n",
       "      <td>Good</td>\n",
       "      <td>0</td>\n",
       "      <td>Good</td>\n",
       "      <td>20</td>\n",
       "      <td>Good</td>\n",
       "    </tr>\n",
       "    <tr>\n",
       "      <th>4</th>\n",
       "      <td>France</td>\n",
       "      <td>Punaauia</td>\n",
       "      <td>22</td>\n",
       "      <td>Good</td>\n",
       "      <td>0</td>\n",
       "      <td>Good</td>\n",
       "      <td>22</td>\n",
       "      <td>Good</td>\n",
       "      <td>0</td>\n",
       "      <td>Good</td>\n",
       "      <td>6</td>\n",
       "      <td>Good</td>\n",
       "    </tr>\n",
       "  </tbody>\n",
       "</table>\n",
       "</div>"
      ],
      "text/plain": [
       "              Country              City  AQI Value AQI Category  CO AQI Value  \\\n",
       "0  Russian Federation        Praskoveya         51     Moderate             1   \n",
       "1              Brazil  Presidente Dutra         41         Good             1   \n",
       "2               Italy   Priolo Gargallo         66     Moderate             1   \n",
       "3              Poland         Przasnysz         34         Good             1   \n",
       "4              France          Punaauia         22         Good             0   \n",
       "\n",
       "  CO AQI Category  Ozone AQI Value Ozone AQI Category  NO2 AQI Value  \\\n",
       "0            Good               36               Good              0   \n",
       "1            Good                5               Good              1   \n",
       "2            Good               39               Good              2   \n",
       "3            Good               34               Good              0   \n",
       "4            Good               22               Good              0   \n",
       "\n",
       "  NO2 AQI Category  PM2.5 AQI Value PM2.5 AQI Category  \n",
       "0             Good               51           Moderate  \n",
       "1             Good               41               Good  \n",
       "2             Good               66           Moderate  \n",
       "3             Good               20               Good  \n",
       "4             Good                6               Good  "
      ]
     },
     "execution_count": 4,
     "metadata": {},
     "output_type": "execute_result"
    }
   ],
   "source": [
    "data.head()"
   ]
  },
  {
   "cell_type": "code",
   "execution_count": 5,
   "id": "ec12c52c-7955-484d-8feb-4083fa868034",
   "metadata": {},
   "outputs": [
    {
     "data": {
      "text/html": [
       "<div>\n",
       "<style scoped>\n",
       "    .dataframe tbody tr th:only-of-type {\n",
       "        vertical-align: middle;\n",
       "    }\n",
       "\n",
       "    .dataframe tbody tr th {\n",
       "        vertical-align: top;\n",
       "    }\n",
       "\n",
       "    .dataframe thead th {\n",
       "        text-align: right;\n",
       "    }\n",
       "</style>\n",
       "<table border=\"1\" class=\"dataframe\">\n",
       "  <thead>\n",
       "    <tr style=\"text-align: right;\">\n",
       "      <th></th>\n",
       "      <th>AQI Value</th>\n",
       "      <th>CO AQI Value</th>\n",
       "      <th>Ozone AQI Value</th>\n",
       "      <th>NO2 AQI Value</th>\n",
       "      <th>PM2.5 AQI Value</th>\n",
       "    </tr>\n",
       "  </thead>\n",
       "  <tbody>\n",
       "    <tr>\n",
       "      <th>count</th>\n",
       "      <td>23463.000000</td>\n",
       "      <td>23463.000000</td>\n",
       "      <td>23463.000000</td>\n",
       "      <td>23463.000000</td>\n",
       "      <td>23463.000000</td>\n",
       "    </tr>\n",
       "    <tr>\n",
       "      <th>mean</th>\n",
       "      <td>72.010868</td>\n",
       "      <td>1.368367</td>\n",
       "      <td>35.193709</td>\n",
       "      <td>3.063334</td>\n",
       "      <td>68.519755</td>\n",
       "    </tr>\n",
       "    <tr>\n",
       "      <th>std</th>\n",
       "      <td>56.055220</td>\n",
       "      <td>1.832064</td>\n",
       "      <td>28.098723</td>\n",
       "      <td>5.254108</td>\n",
       "      <td>54.796443</td>\n",
       "    </tr>\n",
       "    <tr>\n",
       "      <th>min</th>\n",
       "      <td>6.000000</td>\n",
       "      <td>0.000000</td>\n",
       "      <td>0.000000</td>\n",
       "      <td>0.000000</td>\n",
       "      <td>0.000000</td>\n",
       "    </tr>\n",
       "    <tr>\n",
       "      <th>25%</th>\n",
       "      <td>39.000000</td>\n",
       "      <td>1.000000</td>\n",
       "      <td>21.000000</td>\n",
       "      <td>0.000000</td>\n",
       "      <td>35.000000</td>\n",
       "    </tr>\n",
       "    <tr>\n",
       "      <th>50%</th>\n",
       "      <td>55.000000</td>\n",
       "      <td>1.000000</td>\n",
       "      <td>31.000000</td>\n",
       "      <td>1.000000</td>\n",
       "      <td>54.000000</td>\n",
       "    </tr>\n",
       "    <tr>\n",
       "      <th>75%</th>\n",
       "      <td>79.000000</td>\n",
       "      <td>1.000000</td>\n",
       "      <td>40.000000</td>\n",
       "      <td>4.000000</td>\n",
       "      <td>79.000000</td>\n",
       "    </tr>\n",
       "    <tr>\n",
       "      <th>max</th>\n",
       "      <td>500.000000</td>\n",
       "      <td>133.000000</td>\n",
       "      <td>235.000000</td>\n",
       "      <td>91.000000</td>\n",
       "      <td>500.000000</td>\n",
       "    </tr>\n",
       "  </tbody>\n",
       "</table>\n",
       "</div>"
      ],
      "text/plain": [
       "          AQI Value  CO AQI Value  Ozone AQI Value  NO2 AQI Value  \\\n",
       "count  23463.000000  23463.000000     23463.000000   23463.000000   \n",
       "mean      72.010868      1.368367        35.193709       3.063334   \n",
       "std       56.055220      1.832064        28.098723       5.254108   \n",
       "min        6.000000      0.000000         0.000000       0.000000   \n",
       "25%       39.000000      1.000000        21.000000       0.000000   \n",
       "50%       55.000000      1.000000        31.000000       1.000000   \n",
       "75%       79.000000      1.000000        40.000000       4.000000   \n",
       "max      500.000000    133.000000       235.000000      91.000000   \n",
       "\n",
       "       PM2.5 AQI Value  \n",
       "count     23463.000000  \n",
       "mean         68.519755  \n",
       "std          54.796443  \n",
       "min           0.000000  \n",
       "25%          35.000000  \n",
       "50%          54.000000  \n",
       "75%          79.000000  \n",
       "max         500.000000  "
      ]
     },
     "execution_count": 5,
     "metadata": {},
     "output_type": "execute_result"
    }
   ],
   "source": [
    "data.describe()"
   ]
  },
  {
   "cell_type": "code",
   "execution_count": 6,
   "id": "032243b4-cb5f-4494-b2fb-a5c23caeba62",
   "metadata": {},
   "outputs": [
    {
     "data": {
      "text/plain": [
       "Country               427\n",
       "City                    1\n",
       "AQI Value               0\n",
       "AQI Category            0\n",
       "CO AQI Value            0\n",
       "CO AQI Category         0\n",
       "Ozone AQI Value         0\n",
       "Ozone AQI Category      0\n",
       "NO2 AQI Value           0\n",
       "NO2 AQI Category        0\n",
       "PM2.5 AQI Value         0\n",
       "PM2.5 AQI Category      0\n",
       "dtype: int64"
      ]
     },
     "execution_count": 6,
     "metadata": {},
     "output_type": "execute_result"
    }
   ],
   "source": [
    "data.isna().sum()"
   ]
  },
  {
   "cell_type": "markdown",
   "id": "d27ff89f-2dee-4ee4-b7fe-24390c5cd8a6",
   "metadata": {},
   "source": [
    "## Data Cleaning"
   ]
  },
  {
   "cell_type": "code",
   "execution_count": 7,
   "id": "7fe468ed-a4aa-4f87-9063-867f3b205f9e",
   "metadata": {},
   "outputs": [],
   "source": [
    "# data['CO AQI Value'] = data['CO AQI Value'].astype('object') "
   ]
  },
  {
   "cell_type": "code",
   "execution_count": 8,
   "id": "fe57d364-4959-4d47-bcfa-b6ad0c14fb46",
   "metadata": {},
   "outputs": [
    {
     "name": "stderr",
     "output_type": "stream",
     "text": [
      "C:\\Users\\pavan\\AppData\\Local\\Temp\\ipykernel_7272\\271669741.py:5: FutureWarning: In a future version of pandas all arguments of DataFrame.dropna will be keyword-only.\n",
      "  data.dropna(0, inplace=True)\n"
     ]
    }
   ],
   "source": [
    "# Replace Country NULL with City Values\n",
    "data['Country'].fillna(data['City'], inplace=True)\n",
    "\n",
    "# Drop City NULL values\n",
    "data.dropna(0, inplace=True)"
   ]
  },
  {
   "cell_type": "code",
   "execution_count": 9,
   "id": "c8c9307d-9175-45e3-ad74-36ddab3028c1",
   "metadata": {},
   "outputs": [
    {
     "data": {
      "text/plain": [
       "<AxesSubplot: >"
      ]
     },
     "execution_count": 9,
     "metadata": {},
     "output_type": "execute_result"
    },
    {
     "data": {
      "image/png": "[encoded data removed]",
      "text/plain": [
       "<Figure size 640x480 with 1 Axes>"
      ]
     },
     "metadata": {},
     "output_type": "display_data"
    }
   ],
   "source": [
    "sns.boxplot(data)"
   ]
  },
  {
   "cell_type": "code",
   "execution_count": 10,
   "id": "b17a0545-0ac2-4247-8440-1d1184c862f4",
   "metadata": {},
   "outputs": [
    {
     "name": "stderr",
     "output_type": "stream",
     "text": [
      "C:\\Users\\pavan\\AppData\\Local\\Temp\\ipykernel_7272\\3862293631.py:1: FutureWarning: The default value of numeric_only in DataFrame.quantile is deprecated. In a future version, it will default to False. Select only valid columns or specify the value of numeric_only to silence this warning.\n",
      "  Q1 = data.quantile(0.03)\n",
      "C:\\Users\\pavan\\AppData\\Local\\Temp\\ipykernel_7272\\3862293631.py:2: FutureWarning: The default value of numeric_only in DataFrame.quantile is deprecated. In a future version, it will default to False. Select only valid columns or specify the value of numeric_only to silence this warning.\n",
      "  Q3 = data.quantile(0.97)\n",
      "C:\\Users\\pavan\\AppData\\Local\\Temp\\ipykernel_7272\\3862293631.py:5: FutureWarning: Automatic reindexing on DataFrame vs Series comparisons is deprecated and will raise ValueError in a future version. Do `left, right = left.align(right, axis=1, copy=False)` before e.g. `left == right`\n",
      "  data = data[~((data < (Q1)) |(data > (Q3))).any(axis=1)]\n"
     ]
    }
   ],
   "source": [
    "Q1 = data.quantile(0.03)\n",
    "Q3 = data.quantile(0.97)\n",
    "IQR = Q3 - Q1\n",
    "\n",
    "data = data[~((data < (Q1)) |(data > (Q3))).any(axis=1)]"
   ]
  },
  {
   "cell_type": "code",
   "execution_count": 11,
   "id": "f604f179-55b5-441b-a749-498b1ef15050",
   "metadata": {},
   "outputs": [
    {
     "data": {
      "text/plain": [
       "<AxesSubplot: >"
      ]
     },
     "execution_count": 11,
     "metadata": {},
     "output_type": "execute_result"
    },
    {
     "data": {
      "image/png": "[encoded data removed]",
      "text/plain": [
       "<Figure size 640x480 with 1 Axes>"
      ]
     },
     "metadata": {},
     "output_type": "display_data"
    }
   ],
   "source": [
    "sns.boxplot(data)"
   ]
  },
  {
   "cell_type": "code",
   "execution_count": 12,
   "id": "be233c68-c583-4edd-ba27-fb1c6d7ee031",
   "metadata": {},
   "outputs": [
    {
     "data": {
      "text/plain": [
       "Country               0\n",
       "City                  0\n",
       "AQI Value             0\n",
       "AQI Category          0\n",
       "CO AQI Value          0\n",
       "CO AQI Category       0\n",
       "Ozone AQI Value       0\n",
       "Ozone AQI Category    0\n",
       "NO2 AQI Value         0\n",
       "NO2 AQI Category      0\n",
       "PM2.5 AQI Value       0\n",
       "PM2.5 AQI Category    0\n",
       "dtype: int64"
      ]
     },
     "execution_count": 12,
     "metadata": {},
     "output_type": "execute_result"
    }
   ],
   "source": [
    "data.isna().sum()"
   ]
  },
  {
   "cell_type": "markdown",
   "id": "ff78e4bb-e271-4430-a0b0-449db7a8a243",
   "metadata": {},
   "source": [
    "## Exploratory Data Analysis"
   ]
  },
  {
   "cell_type": "code",
   "execution_count": 13,
   "id": "1d082fdf-7f0e-496a-835a-eee9a7acf350",
   "metadata": {},
   "outputs": [
    {
     "name": "stderr",
     "output_type": "stream",
     "text": [
      "C:\\Users\\pavan\\AppData\\Local\\Temp\\ipykernel_7272\\1067383699.py:1: FutureWarning: The default value of numeric_only in DataFrame.corr is deprecated. In a future version, it will default to False. Select only valid columns or specify the value of numeric_only to silence this warning.\n",
      "  sns.heatmap(data.corr(), annot=True, cmap='Blues')\n"
     ]
    },
    {
     "data": {
      "text/plain": [
       "<AxesSubplot: >"
      ]
     },
     "execution_count": 13,
     "metadata": {},
     "output_type": "execute_result"
    },
    {
     "data": {
      "image/png": "[encoded data removed]",
      "text/plain": [
       "<Figure size 640x480 with 2 Axes>"
      ]
     },
     "metadata": {},
     "output_type": "display_data"
    }
   ],
   "source": [
    "sns.heatmap(data.corr(), annot=True, cmap='Blues')"
   ]
  },
  {
   "cell_type": "code",
   "execution_count": 14,
   "id": "7bf158fb-06cf-4bae-b4ce-88081f5fe4b1",
   "metadata": {},
   "outputs": [
    {
     "data": {
      "image/png": "[encoded data removed]",
      "text/plain": [
       "<Figure size 1500x400 with 1 Axes>"
      ]
     },
     "metadata": {},
     "output_type": "display_data"
    }
   ],
   "source": [
    "plt.figure(figsize=(15, 4))\n",
    "sns.histplot(data['Country'])\n",
    "plt.show()"
   ]
  },
  {
   "cell_type": "code",
   "execution_count": 15,
   "id": "9a125dda-6bfe-4ada-8f34-dccf9f7f0ed2",
   "metadata": {},
   "outputs": [
    {
     "data": {
      "text/plain": [
       "<seaborn.axisgrid.FacetGrid at 0x20b07f117e0>"
      ]
     },
     "execution_count": 15,
     "metadata": {},
     "output_type": "execute_result"
    },
    {
     "data": {
      "image/png": "[encoded data removed]",
      "text/plain": [
       "<Figure size 500x500 with 1 Axes>"
      ]
     },
     "metadata": {},
     "output_type": "display_data"
    }
   ],
   "source": [
    "sns.lmplot(data=data, x='AQI Value', y='PM2.5 AQI Value')"
   ]
  },
  {
   "cell_type": "code",
   "execution_count": 16,
   "id": "65407078-00c1-4faf-a763-4594d50a2fc4",
   "metadata": {},
   "outputs": [
    {
     "data": {
      "text/plain": [
       "<AxesSubplot: xlabel='NO2 AQI Value', ylabel='Ozone AQI Value'>"
      ]
     },
     "execution_count": 16,
     "metadata": {},
     "output_type": "execute_result"
    },
    {
     "data": {
      "image/png": "[encoded data removed]",
      "text/plain": [
       "<Figure size 640x480 with 1 Axes>"
      ]
     },
     "metadata": {},
     "output_type": "display_data"
    }
   ],
   "source": [
    "sns.lineplot(data=data, y='Ozone AQI Value', x='NO2 AQI Value')"
   ]
  },
  {
   "cell_type": "markdown",
   "id": "24ecd8a4-76a6-40c5-a6e6-601101935412",
   "metadata": {},
   "source": [
    "## Feature Engineering"
   ]
  },
  {
   "cell_type": "code",
   "execution_count": 17,
   "id": "015bf005-6160-430b-8e99-d1594a83f59e",
   "metadata": {},
   "outputs": [
    {
     "data": {
      "text/html": [
       "<div>\n",
       "<style scoped>\n",
       "    .dataframe tbody tr th:only-of-type {\n",
       "        vertical-align: middle;\n",
       "    }\n",
       "\n",
       "    .dataframe tbody tr th {\n",
       "        vertical-align: top;\n",
       "    }\n",
       "\n",
       "    .dataframe thead th {\n",
       "        text-align: right;\n",
       "    }\n",
       "</style>\n",
       "<table border=\"1\" class=\"dataframe\">\n",
       "  <thead>\n",
       "    <tr style=\"text-align: right;\">\n",
       "      <th></th>\n",
       "      <th>Country</th>\n",
       "      <th>City</th>\n",
       "      <th>AQI Value</th>\n",
       "      <th>AQI Category</th>\n",
       "      <th>CO AQI Value</th>\n",
       "      <th>CO AQI Category</th>\n",
       "      <th>Ozone AQI Value</th>\n",
       "      <th>Ozone AQI Category</th>\n",
       "      <th>NO2 AQI Value</th>\n",
       "      <th>NO2 AQI Category</th>\n",
       "      <th>PM2.5 AQI Value</th>\n",
       "      <th>PM2.5 AQI Category</th>\n",
       "    </tr>\n",
       "  </thead>\n",
       "  <tbody>\n",
       "    <tr>\n",
       "      <th>0</th>\n",
       "      <td>Russian Federation</td>\n",
       "      <td>Praskoveya</td>\n",
       "      <td>51</td>\n",
       "      <td>Moderate</td>\n",
       "      <td>1</td>\n",
       "      <td>Good</td>\n",
       "      <td>36</td>\n",
       "      <td>Good</td>\n",
       "      <td>0</td>\n",
       "      <td>Good</td>\n",
       "      <td>51</td>\n",
       "      <td>Moderate</td>\n",
       "    </tr>\n",
       "    <tr>\n",
       "      <th>1</th>\n",
       "      <td>Brazil</td>\n",
       "      <td>Presidente Dutra</td>\n",
       "      <td>41</td>\n",
       "      <td>Good</td>\n",
       "      <td>1</td>\n",
       "      <td>Good</td>\n",
       "      <td>5</td>\n",
       "      <td>Good</td>\n",
       "      <td>1</td>\n",
       "      <td>Good</td>\n",
       "      <td>41</td>\n",
       "      <td>Good</td>\n",
       "    </tr>\n",
       "    <tr>\n",
       "      <th>2</th>\n",
       "      <td>Italy</td>\n",
       "      <td>Priolo Gargallo</td>\n",
       "      <td>66</td>\n",
       "      <td>Moderate</td>\n",
       "      <td>1</td>\n",
       "      <td>Good</td>\n",
       "      <td>39</td>\n",
       "      <td>Good</td>\n",
       "      <td>2</td>\n",
       "      <td>Good</td>\n",
       "      <td>66</td>\n",
       "      <td>Moderate</td>\n",
       "    </tr>\n",
       "    <tr>\n",
       "      <th>3</th>\n",
       "      <td>Poland</td>\n",
       "      <td>Przasnysz</td>\n",
       "      <td>34</td>\n",
       "      <td>Good</td>\n",
       "      <td>1</td>\n",
       "      <td>Good</td>\n",
       "      <td>34</td>\n",
       "      <td>Good</td>\n",
       "      <td>0</td>\n",
       "      <td>Good</td>\n",
       "      <td>20</td>\n",
       "      <td>Good</td>\n",
       "    </tr>\n",
       "    <tr>\n",
       "      <th>5</th>\n",
       "      <td>United States of America</td>\n",
       "      <td>Punta Gorda</td>\n",
       "      <td>54</td>\n",
       "      <td>Moderate</td>\n",
       "      <td>1</td>\n",
       "      <td>Good</td>\n",
       "      <td>14</td>\n",
       "      <td>Good</td>\n",
       "      <td>11</td>\n",
       "      <td>Good</td>\n",
       "      <td>54</td>\n",
       "      <td>Moderate</td>\n",
       "    </tr>\n",
       "  </tbody>\n",
       "</table>\n",
       "</div>"
      ],
      "text/plain": [
       "                    Country              City  AQI Value AQI Category  \\\n",
       "0        Russian Federation        Praskoveya         51     Moderate   \n",
       "1                    Brazil  Presidente Dutra         41         Good   \n",
       "2                     Italy   Priolo Gargallo         66     Moderate   \n",
       "3                    Poland         Przasnysz         34         Good   \n",
       "5  United States of America       Punta Gorda         54     Moderate   \n",
       "\n",
       "   CO AQI Value CO AQI Category  Ozone AQI Value Ozone AQI Category  \\\n",
       "0             1            Good               36               Good   \n",
       "1             1            Good                5               Good   \n",
       "2             1            Good               39               Good   \n",
       "3             1            Good               34               Good   \n",
       "5             1            Good               14               Good   \n",
       "\n",
       "   NO2 AQI Value NO2 AQI Category  PM2.5 AQI Value PM2.5 AQI Category  \n",
       "0              0             Good               51           Moderate  \n",
       "1              1             Good               41               Good  \n",
       "2              2             Good               66           Moderate  \n",
       "3              0             Good               20               Good  \n",
       "5             11             Good               54           Moderate  "
      ]
     },
     "execution_count": 17,
     "metadata": {},
     "output_type": "execute_result"
    }
   ],
   "source": [
    "data.head()"
   ]
  },
  {
   "cell_type": "code",
   "execution_count": 18,
   "id": "79b574e2-677f-44cd-b3a8-9895a6f24978",
   "metadata": {},
   "outputs": [
    {
     "data": {
      "text/html": [
       "<div>\n",
       "<style scoped>\n",
       "    .dataframe tbody tr th:only-of-type {\n",
       "        vertical-align: middle;\n",
       "    }\n",
       "\n",
       "    .dataframe tbody tr th {\n",
       "        vertical-align: top;\n",
       "    }\n",
       "\n",
       "    .dataframe thead th {\n",
       "        text-align: right;\n",
       "    }\n",
       "</style>\n",
       "<table border=\"1\" class=\"dataframe\">\n",
       "  <thead>\n",
       "    <tr style=\"text-align: right;\">\n",
       "      <th></th>\n",
       "      <th>Country</th>\n",
       "      <th>City</th>\n",
       "      <th>AQI Value</th>\n",
       "      <th>AQI Category</th>\n",
       "      <th>CO AQI Value</th>\n",
       "      <th>CO AQI Category</th>\n",
       "      <th>Ozone AQI Value</th>\n",
       "      <th>Ozone AQI Category</th>\n",
       "      <th>NO2 AQI Value</th>\n",
       "      <th>NO2 AQI Category</th>\n",
       "      <th>PM2.5 AQI Value</th>\n",
       "      <th>PM2.5 AQI Category</th>\n",
       "    </tr>\n",
       "  </thead>\n",
       "  <tbody>\n",
       "    <tr>\n",
       "      <th>0</th>\n",
       "      <td>Russian Federation</td>\n",
       "      <td>Praskoveya</td>\n",
       "      <td>0.18125</td>\n",
       "      <td>Moderate</td>\n",
       "      <td>0.25</td>\n",
       "      <td>Good</td>\n",
       "      <td>0.260504</td>\n",
       "      <td>Good</td>\n",
       "      <td>0.000000</td>\n",
       "      <td>Good</td>\n",
       "      <td>0.220238</td>\n",
       "      <td>Moderate</td>\n",
       "    </tr>\n",
       "    <tr>\n",
       "      <th>1</th>\n",
       "      <td>Brazil</td>\n",
       "      <td>Presidente Dutra</td>\n",
       "      <td>0.11875</td>\n",
       "      <td>Good</td>\n",
       "      <td>0.25</td>\n",
       "      <td>Good</td>\n",
       "      <td>0.000000</td>\n",
       "      <td>Good</td>\n",
       "      <td>0.058824</td>\n",
       "      <td>Good</td>\n",
       "      <td>0.160714</td>\n",
       "      <td>Good</td>\n",
       "    </tr>\n",
       "    <tr>\n",
       "      <th>2</th>\n",
       "      <td>Italy</td>\n",
       "      <td>Priolo Gargallo</td>\n",
       "      <td>0.27500</td>\n",
       "      <td>Moderate</td>\n",
       "      <td>0.25</td>\n",
       "      <td>Good</td>\n",
       "      <td>0.285714</td>\n",
       "      <td>Good</td>\n",
       "      <td>0.117647</td>\n",
       "      <td>Good</td>\n",
       "      <td>0.309524</td>\n",
       "      <td>Moderate</td>\n",
       "    </tr>\n",
       "    <tr>\n",
       "      <th>3</th>\n",
       "      <td>Poland</td>\n",
       "      <td>Przasnysz</td>\n",
       "      <td>0.07500</td>\n",
       "      <td>Good</td>\n",
       "      <td>0.25</td>\n",
       "      <td>Good</td>\n",
       "      <td>0.243697</td>\n",
       "      <td>Good</td>\n",
       "      <td>0.000000</td>\n",
       "      <td>Good</td>\n",
       "      <td>0.035714</td>\n",
       "      <td>Good</td>\n",
       "    </tr>\n",
       "    <tr>\n",
       "      <th>5</th>\n",
       "      <td>United States of America</td>\n",
       "      <td>Punta Gorda</td>\n",
       "      <td>0.20000</td>\n",
       "      <td>Moderate</td>\n",
       "      <td>0.25</td>\n",
       "      <td>Good</td>\n",
       "      <td>0.075630</td>\n",
       "      <td>Good</td>\n",
       "      <td>0.647059</td>\n",
       "      <td>Good</td>\n",
       "      <td>0.238095</td>\n",
       "      <td>Moderate</td>\n",
       "    </tr>\n",
       "    <tr>\n",
       "      <th>...</th>\n",
       "      <td>...</td>\n",
       "      <td>...</td>\n",
       "      <td>...</td>\n",
       "      <td>...</td>\n",
       "      <td>...</td>\n",
       "      <td>...</td>\n",
       "      <td>...</td>\n",
       "      <td>...</td>\n",
       "      <td>...</td>\n",
       "      <td>...</td>\n",
       "      <td>...</td>\n",
       "      <td>...</td>\n",
       "    </tr>\n",
       "    <tr>\n",
       "      <th>23457</th>\n",
       "      <td>Slovakia</td>\n",
       "      <td>Martin</td>\n",
       "      <td>0.30625</td>\n",
       "      <td>Moderate</td>\n",
       "      <td>0.25</td>\n",
       "      <td>Good</td>\n",
       "      <td>0.285714</td>\n",
       "      <td>Good</td>\n",
       "      <td>0.058824</td>\n",
       "      <td>Good</td>\n",
       "      <td>0.339286</td>\n",
       "      <td>Moderate</td>\n",
       "    </tr>\n",
       "    <tr>\n",
       "      <th>23459</th>\n",
       "      <td>France</td>\n",
       "      <td>Sceaux</td>\n",
       "      <td>0.17500</td>\n",
       "      <td>Good</td>\n",
       "      <td>0.25</td>\n",
       "      <td>Good</td>\n",
       "      <td>0.126050</td>\n",
       "      <td>Good</td>\n",
       "      <td>0.294118</td>\n",
       "      <td>Good</td>\n",
       "      <td>0.214286</td>\n",
       "      <td>Good</td>\n",
       "    </tr>\n",
       "    <tr>\n",
       "      <th>23460</th>\n",
       "      <td>India</td>\n",
       "      <td>Mormugao</td>\n",
       "      <td>0.17500</td>\n",
       "      <td>Good</td>\n",
       "      <td>0.25</td>\n",
       "      <td>Good</td>\n",
       "      <td>0.142857</td>\n",
       "      <td>Good</td>\n",
       "      <td>0.058824</td>\n",
       "      <td>Good</td>\n",
       "      <td>0.214286</td>\n",
       "      <td>Good</td>\n",
       "    </tr>\n",
       "    <tr>\n",
       "      <th>23461</th>\n",
       "      <td>United States of America</td>\n",
       "      <td>Westerville</td>\n",
       "      <td>0.30625</td>\n",
       "      <td>Moderate</td>\n",
       "      <td>0.25</td>\n",
       "      <td>Good</td>\n",
       "      <td>0.327731</td>\n",
       "      <td>Good</td>\n",
       "      <td>0.117647</td>\n",
       "      <td>Good</td>\n",
       "      <td>0.339286</td>\n",
       "      <td>Moderate</td>\n",
       "    </tr>\n",
       "    <tr>\n",
       "      <th>23462</th>\n",
       "      <td>Malaysia</td>\n",
       "      <td>Marang</td>\n",
       "      <td>0.30000</td>\n",
       "      <td>Moderate</td>\n",
       "      <td>0.25</td>\n",
       "      <td>Good</td>\n",
       "      <td>0.277311</td>\n",
       "      <td>Good</td>\n",
       "      <td>0.000000</td>\n",
       "      <td>Good</td>\n",
       "      <td>0.333333</td>\n",
       "      <td>Moderate</td>\n",
       "    </tr>\n",
       "  </tbody>\n",
       "</table>\n",
       "<p>19763 rows × 12 columns</p>\n",
       "</div>"
      ],
      "text/plain": [
       "                        Country              City  AQI Value AQI Category  \\\n",
       "0            Russian Federation        Praskoveya    0.18125     Moderate   \n",
       "1                        Brazil  Presidente Dutra    0.11875         Good   \n",
       "2                         Italy   Priolo Gargallo    0.27500     Moderate   \n",
       "3                        Poland         Przasnysz    0.07500         Good   \n",
       "5      United States of America       Punta Gorda    0.20000     Moderate   \n",
       "...                         ...               ...        ...          ...   \n",
       "23457                  Slovakia            Martin    0.30625     Moderate   \n",
       "23459                    France            Sceaux    0.17500         Good   \n",
       "23460                     India          Mormugao    0.17500         Good   \n",
       "23461  United States of America       Westerville    0.30625     Moderate   \n",
       "23462                  Malaysia            Marang    0.30000     Moderate   \n",
       "\n",
       "       CO AQI Value CO AQI Category  Ozone AQI Value Ozone AQI Category  \\\n",
       "0              0.25            Good         0.260504               Good   \n",
       "1              0.25            Good         0.000000               Good   \n",
       "2              0.25            Good         0.285714               Good   \n",
       "3              0.25            Good         0.243697               Good   \n",
       "5              0.25            Good         0.075630               Good   \n",
       "...             ...             ...              ...                ...   \n",
       "23457          0.25            Good         0.285714               Good   \n",
       "23459          0.25            Good         0.126050               Good   \n",
       "23460          0.25            Good         0.142857               Good   \n",
       "23461          0.25            Good         0.327731               Good   \n",
       "23462          0.25            Good         0.277311               Good   \n",
       "\n",
       "       NO2 AQI Value NO2 AQI Category  PM2.5 AQI Value PM2.5 AQI Category  \n",
       "0           0.000000             Good         0.220238           Moderate  \n",
       "1           0.058824             Good         0.160714               Good  \n",
       "2           0.117647             Good         0.309524           Moderate  \n",
       "3           0.000000             Good         0.035714               Good  \n",
       "5           0.647059             Good         0.238095           Moderate  \n",
       "...              ...              ...              ...                ...  \n",
       "23457       0.058824             Good         0.339286           Moderate  \n",
       "23459       0.294118             Good         0.214286               Good  \n",
       "23460       0.058824             Good         0.214286               Good  \n",
       "23461       0.117647             Good         0.339286           Moderate  \n",
       "23462       0.000000             Good         0.333333           Moderate  \n",
       "\n",
       "[19763 rows x 12 columns]"
      ]
     },
     "execution_count": 18,
     "metadata": {},
     "output_type": "execute_result"
    }
   ],
   "source": [
    "std_data = (data-data.min(numeric_only=True))/(data.max(numeric_only=True)-data.min(numeric_only=True))\n",
    "data[['AQI Value', 'CO AQI Value', 'NO2 AQI Value', 'Ozone AQI Value', 'PM2.5 AQI Value']] = std_data[['AQI Value', 'CO AQI Value', 'NO2 AQI Value', 'Ozone AQI Value', 'PM2.5 AQI Value']]\n",
    "data"
   ]
  },
  {
   "cell_type": "code",
   "execution_count": 19,
   "id": "64af4b6d-9cc9-41f9-a873-bf25624c0562",
   "metadata": {},
   "outputs": [],
   "source": [
    "_map = {'Moderate': 0.0, 'Good': 1.0, 'Unhealthy for Sensitive Groups': 2.0, 'Unhealthy': 3.0}\n",
    "data.replace({\"AQI Category\": _map, \"CO AQI Category\": _map, \"Ozone AQI Category\": _map, \"NO2 AQI Category\": _map, \"PM2.5 AQI Category\": _map}, inplace=True)"
   ]
  },
  {
   "cell_type": "markdown",
   "id": "09266d3a-2a5e-48fd-8e94-a6b05751e369",
   "metadata": {},
   "source": [
    "## Model Development"
   ]
  },
  {
   "cell_type": "code",
   "execution_count": 20,
   "id": "22533d41-d43b-4b9c-8a3b-8b98b52b9569",
   "metadata": {},
   "outputs": [],
   "source": [
    "scores = []"
   ]
  },
  {
   "cell_type": "markdown",
   "id": "c2fbc8b5-faab-436d-ac35-8219259749f2",
   "metadata": {
    "tags": []
   },
   "source": [
    "### Regression"
   ]
  },
  {
   "cell_type": "code",
   "execution_count": 21,
   "id": "1322e747-b8b3-41fc-993f-cd8691b49d41",
   "metadata": {},
   "outputs": [
    {
     "data": {
      "text/plain": [
       "['PM2.5 AQI Category',\n",
       " 'Ozone AQI Category',\n",
       " 'Ozone AQI Value',\n",
       " 'NO2 AQI Category',\n",
       " 'CO AQI Category',\n",
       " 'NO2 AQI Value',\n",
       " 'CO AQI Value',\n",
       " 'PM2.5 AQI Value']"
      ]
     },
     "execution_count": 21,
     "metadata": {},
     "output_type": "execute_result"
    }
   ],
   "source": [
    "# from sklearn.preprocessing import train_test_split\n",
    "train_features = list(set(data.select_dtypes(include=['float64']).columns)-set([\"AQI Value\", \"AQI Category\"]))\n",
    "train_features"
   ]
  },
  {
   "cell_type": "code",
   "execution_count": 22,
   "id": "5fe92ba1-472b-4e97-8983-2be771d3aabb",
   "metadata": {},
   "outputs": [
    {
     "data": {
      "text/plain": [
       "((17786, 8), (1977, 8), (17786,), (1977,))"
      ]
     },
     "execution_count": 22,
     "metadata": {},
     "output_type": "execute_result"
    }
   ],
   "source": [
    "from sklearn.model_selection import train_test_split\n",
    "\n",
    "train = data[train_features]\n",
    "labels = data[\"AQI Value\"]\n",
    "\n",
    "X_train, X_test, y_train, y_test = train_test_split(train, labels, test_size=0.1, random_state=42)\n",
    "X_train.shape, X_test.shape, y_train.shape, y_test.shape"
   ]
  },
  {
   "cell_type": "code",
   "execution_count": 23,
   "id": "30a7b7ab-f62c-4a0b-86e5-90a1750dcf71",
   "metadata": {},
   "outputs": [
    {
     "data": {
      "text/plain": [
       "9894     0.36875\n",
       "21839    0.13125\n",
       "9991     0.05625\n",
       "9383     0.16875\n",
       "17809    0.17500\n",
       "          ...   \n",
       "13404    0.17500\n",
       "14208    0.80000\n",
       "6420     0.21250\n",
       "1047     0.21875\n",
       "18738    0.18750\n",
       "Name: AQI Value, Length: 17786, dtype: float64"
      ]
     },
     "execution_count": 23,
     "metadata": {},
     "output_type": "execute_result"
    }
   ],
   "source": [
    "y_train"
   ]
  },
  {
   "cell_type": "code",
   "execution_count": 24,
   "id": "b165aed5-ce28-4e3d-bf32-cd5257e9a198",
   "metadata": {},
   "outputs": [],
   "source": [
    "from sklearn.linear_model import LinearRegression\n",
    "\n",
    "lr = LinearRegression()\n",
    "model = lr.fit(X_train, y_train)"
   ]
  },
  {
   "cell_type": "code",
   "execution_count": 25,
   "id": "399bc927-d386-417c-9164-d45f37b87e7f",
   "metadata": {},
   "outputs": [],
   "source": [
    "lr_train = model.score(X_train, y_train)"
   ]
  },
  {
   "cell_type": "code",
   "execution_count": 26,
   "id": "fa93f662-1684-45f8-a6e6-0b5a7e592bcb",
   "metadata": {},
   "outputs": [],
   "source": [
    "lr_test = model.score(X_test, y_test)"
   ]
  },
  {
   "cell_type": "code",
   "execution_count": 27,
   "id": "19d5ba3e-2be0-4a27-b13c-ea811f1eceed",
   "metadata": {},
   "outputs": [],
   "source": [
    "scores.append(['Linear Regressor', lr_train, lr_test])"
   ]
  },
  {
   "cell_type": "markdown",
   "id": "e2906c60-3803-4282-b848-b155bd8af834",
   "metadata": {},
   "source": [
    "### Classification"
   ]
  },
  {
   "cell_type": "code",
   "execution_count": 28,
   "id": "146e442c-0d6c-4b38-a5be-65799284166c",
   "metadata": {},
   "outputs": [
    {
     "data": {
      "text/plain": [
       "['PM2.5 AQI Category',\n",
       " 'Ozone AQI Category',\n",
       " 'Ozone AQI Value',\n",
       " 'NO2 AQI Category',\n",
       " 'CO AQI Category',\n",
       " 'NO2 AQI Value',\n",
       " 'CO AQI Value',\n",
       " 'PM2.5 AQI Value']"
      ]
     },
     "execution_count": 28,
     "metadata": {},
     "output_type": "execute_result"
    }
   ],
   "source": [
    "# from sklearn.preprocessing import train_test_split\n",
    "train_features = list(set(data.select_dtypes(include=['float64']).columns)-set([\"AQI Value\", \"AQI Category\"]))\n",
    "train_features"
   ]
  },
  {
   "cell_type": "code",
   "execution_count": 29,
   "id": "ec8bc54b-4e14-43f2-8d56-3b92b16c434a",
   "metadata": {},
   "outputs": [
    {
     "data": {
      "text/plain": [
       "((17786, 8), (1977, 8), (17786,), (1977,))"
      ]
     },
     "execution_count": 29,
     "metadata": {},
     "output_type": "execute_result"
    }
   ],
   "source": [
    "from sklearn.model_selection import train_test_split\n",
    "\n",
    "train = data[train_features]\n",
    "labels = data[\"AQI Category\"]\n",
    "\n",
    "X_train, X_test, y_train, y_test = train_test_split(train, labels, test_size=0.1, random_state=42)\n",
    "X_train.shape, X_test.shape, y_train.shape, y_test.shape"
   ]
  },
  {
   "cell_type": "code",
   "execution_count": 30,
   "id": "8e02d5e6-2f41-406b-839d-a9085de9bd0b",
   "metadata": {},
   "outputs": [
    {
     "data": {
      "text/plain": [
       "9894     0.0\n",
       "21839    1.0\n",
       "9991     1.0\n",
       "9383     1.0\n",
       "17809    1.0\n",
       "        ... \n",
       "13404    1.0\n",
       "14208    3.0\n",
       "6420     0.0\n",
       "1047     0.0\n",
       "18738    0.0\n",
       "Name: AQI Category, Length: 17786, dtype: float64"
      ]
     },
     "execution_count": 30,
     "metadata": {},
     "output_type": "execute_result"
    }
   ],
   "source": [
    "y_train"
   ]
  },
  {
   "cell_type": "code",
   "execution_count": 31,
   "id": "6403272b-7818-44e3-854d-34f14fecbacb",
   "metadata": {},
   "outputs": [],
   "source": [
    "from sklearn.model_selection import cross_val_score\n",
    "from sklearn.tree import DecisionTreeClassifier\n",
    "\n",
    "dt = DecisionTreeClassifier()\n",
    "model = dt.fit(X_train, y_train)"
   ]
  },
  {
   "cell_type": "code",
   "execution_count": 32,
   "id": "c06994f1-88d8-46ec-8a2e-822dbf0a015c",
   "metadata": {},
   "outputs": [],
   "source": [
    "dt_train = model.score(X_train, y_train)"
   ]
  },
  {
   "cell_type": "code",
   "execution_count": 33,
   "id": "2f7f1737-7be6-431c-bd2b-2ebe6f81c181",
   "metadata": {},
   "outputs": [],
   "source": [
    "dt_test = model.score(X_test, y_test)"
   ]
  },
  {
   "cell_type": "code",
   "execution_count": 34,
   "id": "c7fe884c-dbda-4632-bc88-11c23dc9396d",
   "metadata": {},
   "outputs": [],
   "source": [
    "scores.append(['Decision Tree', dt_train, dt_test])"
   ]
  },
  {
   "cell_type": "markdown",
   "id": "a4db10bb-8cfe-4ca0-9c38-db2048632404",
   "metadata": {},
   "source": [
    "### Ensemble Modelling"
   ]
  },
  {
   "cell_type": "markdown",
   "id": "cb2e3ea8-197b-4663-a4dc-3f666bb3b1de",
   "metadata": {},
   "source": [
    "#### Regression"
   ]
  },
  {
   "cell_type": "code",
   "execution_count": 35,
   "id": "912b3ee5-13e5-46e5-8eac-f610e9c04ce4",
   "metadata": {},
   "outputs": [
    {
     "data": {
      "text/plain": [
       "['PM2.5 AQI Category',\n",
       " 'Ozone AQI Category',\n",
       " 'Ozone AQI Value',\n",
       " 'NO2 AQI Category',\n",
       " 'CO AQI Category',\n",
       " 'NO2 AQI Value',\n",
       " 'CO AQI Value',\n",
       " 'PM2.5 AQI Value']"
      ]
     },
     "execution_count": 35,
     "metadata": {},
     "output_type": "execute_result"
    }
   ],
   "source": [
    "# from sklearn.preprocessing import train_test_split\n",
    "train_features = list(set(data.select_dtypes(include=['float64']).columns)-set([\"AQI Value\", \"AQI Category\"]))\n",
    "train_features"
   ]
  },
  {
   "cell_type": "code",
   "execution_count": 36,
   "id": "da53f1b8-86fc-4af7-a4d9-6b61ca221ab8",
   "metadata": {
    "tags": []
   },
   "outputs": [
    {
     "data": {
      "text/plain": [
       "((17786, 8), (1977, 8), (17786,), (1977,))"
      ]
     },
     "execution_count": 36,
     "metadata": {},
     "output_type": "execute_result"
    }
   ],
   "source": [
    "from sklearn.model_selection import train_test_split\n",
    "\n",
    "train = data[train_features]\n",
    "labels = data[\"AQI Value\"]\n",
    "\n",
    "X_train, X_test, y_train, y_test = train_test_split(train, labels, test_size=0.1, random_state=42)\n",
    "X_train.shape, X_test.shape, y_train.shape, y_test.shape"
   ]
  },
  {
   "cell_type": "code",
   "execution_count": 37,
   "id": "9fc553cf-e67b-4afd-bc3e-bb94ad873387",
   "metadata": {},
   "outputs": [
    {
     "data": {
      "text/plain": [
       "9894     0.36875\n",
       "21839    0.13125\n",
       "9991     0.05625\n",
       "9383     0.16875\n",
       "17809    0.17500\n",
       "          ...   \n",
       "13404    0.17500\n",
       "14208    0.80000\n",
       "6420     0.21250\n",
       "1047     0.21875\n",
       "18738    0.18750\n",
       "Name: AQI Value, Length: 17786, dtype: float64"
      ]
     },
     "execution_count": 37,
     "metadata": {},
     "output_type": "execute_result"
    }
   ],
   "source": [
    "y_train"
   ]
  },
  {
   "cell_type": "code",
   "execution_count": 38,
   "id": "b54ed6cf-1f55-4800-9c8b-f9877c82b6bc",
   "metadata": {},
   "outputs": [],
   "source": [
    "from sklearn.ensemble import RandomForestRegressor\n",
    "\n",
    "rf_r = RandomForestRegressor()\n",
    "model = rf_r.fit(X_train, y_train)"
   ]
  },
  {
   "cell_type": "code",
   "execution_count": 39,
   "id": "33a3a861-fde1-48c4-8a90-06326ab87135",
   "metadata": {},
   "outputs": [],
   "source": [
    "rf_r_train = rf_r.score(X_train, y_train)"
   ]
  },
  {
   "cell_type": "code",
   "execution_count": 40,
   "id": "f1044440-e1ef-43c4-a60c-5405601bdebe",
   "metadata": {},
   "outputs": [],
   "source": [
    "rf_r_test = rf_r.score(X_test, y_test)"
   ]
  },
  {
   "cell_type": "code",
   "execution_count": 41,
   "id": "be04164f-aa10-4709-bf07-b22871cef40e",
   "metadata": {},
   "outputs": [],
   "source": [
    "scores.append(['Random Forest Regressor', rf_r_train, rf_r_test])"
   ]
  },
  {
   "cell_type": "markdown",
   "id": "aca7a333-f9bd-4849-add3-bb23dc18a1f4",
   "metadata": {},
   "source": [
    "#### Classification"
   ]
  },
  {
   "cell_type": "code",
   "execution_count": 42,
   "id": "ed970fa3-aef6-43fe-81d1-0d5002bd19b5",
   "metadata": {},
   "outputs": [
    {
     "data": {
      "text/plain": [
       "['PM2.5 AQI Category',\n",
       " 'Ozone AQI Category',\n",
       " 'Ozone AQI Value',\n",
       " 'NO2 AQI Category',\n",
       " 'CO AQI Category',\n",
       " 'NO2 AQI Value',\n",
       " 'CO AQI Value',\n",
       " 'PM2.5 AQI Value']"
      ]
     },
     "execution_count": 42,
     "metadata": {},
     "output_type": "execute_result"
    }
   ],
   "source": [
    "# from sklearn.preprocessing import train_test_split\n",
    "train_features = list(set(data.select_dtypes(include=['float64']).columns)-set([\"AQI Value\", \"AQI Category\"]))\n",
    "train_features"
   ]
  },
  {
   "cell_type": "code",
   "execution_count": 43,
   "id": "00eb710e-74c8-43d8-a193-ee861fbd6ee8",
   "metadata": {
    "tags": []
   },
   "outputs": [
    {
     "data": {
      "text/plain": [
       "((17786, 8), (1977, 8), (17786,), (1977,))"
      ]
     },
     "execution_count": 43,
     "metadata": {},
     "output_type": "execute_result"
    }
   ],
   "source": [
    "from sklearn.model_selection import train_test_split\n",
    "\n",
    "train = data[train_features]\n",
    "labels = data[\"AQI Category\"]\n",
    "\n",
    "X_train, X_test, y_train, y_test = train_test_split(train, labels, test_size=0.1, random_state=42)\n",
    "X_train.shape, X_test.shape, y_train.shape, y_test.shape"
   ]
  },
  {
   "cell_type": "code",
   "execution_count": 44,
   "id": "b606234c-2e5e-4b2d-87f4-391969d5a5b6",
   "metadata": {},
   "outputs": [
    {
     "data": {
      "text/plain": [
       "9894     0.0\n",
       "21839    1.0\n",
       "9991     1.0\n",
       "9383     1.0\n",
       "17809    1.0\n",
       "        ... \n",
       "13404    1.0\n",
       "14208    3.0\n",
       "6420     0.0\n",
       "1047     0.0\n",
       "18738    0.0\n",
       "Name: AQI Category, Length: 17786, dtype: float64"
      ]
     },
     "execution_count": 44,
     "metadata": {},
     "output_type": "execute_result"
    }
   ],
   "source": [
    "y_train"
   ]
  },
  {
   "cell_type": "code",
   "execution_count": 45,
   "id": "aad4f9f3-6f1c-40bc-973a-c95dc27b8d98",
   "metadata": {},
   "outputs": [],
   "source": [
    "from sklearn.ensemble import RandomForestClassifier\n",
    "\n",
    "rf_c = DecisionTreeClassifier()\n",
    "model = rf_c.fit(X_train, y_train)"
   ]
  },
  {
   "cell_type": "code",
   "execution_count": 46,
   "id": "8b6169bc-9bad-4265-ac3f-6e62577f9a89",
   "metadata": {},
   "outputs": [],
   "source": [
    "rf_c_train = rf_c.score(X_train, y_train)"
   ]
  },
  {
   "cell_type": "code",
   "execution_count": 47,
   "id": "2c9079be-b7df-4562-8afc-54624a4c0de7",
   "metadata": {},
   "outputs": [],
   "source": [
    "rf_c_test = rf_c.score(X_test, y_test)"
   ]
  },
  {
   "cell_type": "code",
   "execution_count": 48,
   "id": "76e193dc-254d-4d20-8eaa-7e364120fd31",
   "metadata": {},
   "outputs": [],
   "source": [
    "scores.append(['Random Forest Classifier', rf_c_train, rf_c_test])"
   ]
  },
  {
   "cell_type": "markdown",
   "id": "ab901507-92bd-4e76-b56f-00fc81c98336",
   "metadata": {},
   "source": [
    "## Model Comparision and Evaluation"
   ]
  },
  {
   "cell_type": "code",
   "execution_count": 49,
   "id": "49314a27-391e-45da-aa11-c7c53785cc1e",
   "metadata": {},
   "outputs": [
    {
     "data": {
      "text/html": [
       "<div>\n",
       "<style scoped>\n",
       "    .dataframe tbody tr th:only-of-type {\n",
       "        vertical-align: middle;\n",
       "    }\n",
       "\n",
       "    .dataframe tbody tr th {\n",
       "        vertical-align: top;\n",
       "    }\n",
       "\n",
       "    .dataframe thead th {\n",
       "        text-align: right;\n",
       "    }\n",
       "</style>\n",
       "<table border=\"1\" class=\"dataframe\">\n",
       "  <thead>\n",
       "    <tr style=\"text-align: right;\">\n",
       "      <th></th>\n",
       "      <th>Model</th>\n",
       "      <th>Training Accuracy</th>\n",
       "      <th>Testing Accuracy</th>\n",
       "    </tr>\n",
       "  </thead>\n",
       "  <tbody>\n",
       "    <tr>\n",
       "      <th>0</th>\n",
       "      <td>Linear Regressor</td>\n",
       "      <td>0.976053</td>\n",
       "      <td>0.978778</td>\n",
       "    </tr>\n",
       "    <tr>\n",
       "      <th>1</th>\n",
       "      <td>Decision Tree</td>\n",
       "      <td>1.000000</td>\n",
       "      <td>1.000000</td>\n",
       "    </tr>\n",
       "    <tr>\n",
       "      <th>2</th>\n",
       "      <td>Random Forest Regressor</td>\n",
       "      <td>0.999986</td>\n",
       "      <td>0.999933</td>\n",
       "    </tr>\n",
       "    <tr>\n",
       "      <th>3</th>\n",
       "      <td>Random Forest Classifier</td>\n",
       "      <td>1.000000</td>\n",
       "      <td>1.000000</td>\n",
       "    </tr>\n",
       "  </tbody>\n",
       "</table>\n",
       "</div>"
      ],
      "text/plain": [
       "                      Model  Training Accuracy  Testing Accuracy\n",
       "0          Linear Regressor           0.976053          0.978778\n",
       "1             Decision Tree           1.000000          1.000000\n",
       "2   Random Forest Regressor           0.999986          0.999933\n",
       "3  Random Forest Classifier           1.000000          1.000000"
      ]
     },
     "execution_count": 49,
     "metadata": {},
     "output_type": "execute_result"
    }
   ],
   "source": [
    "pd.DataFrame(scores, columns=['Model', 'Training Accuracy', 'Testing Accuracy'])"
   ]
  }
 ],
 "metadata": {
  "kernelspec": {
   "display_name": "Python 3 (ipykernel)",
   "language": "python",
   "name": "python3"
  },
  "language_info": {
   "codemirror_mode": {
    "name": "ipython",
    "version": 3
   },
   "file_extension": ".py",
   "mimetype": "text/x-python",
   "name": "python",
   "nbconvert_exporter": "python",
   "pygments_lexer": "ipython3",
   "version": "3.10.8"
  }
 },
 "nbformat": 4,
 "nbformat_minor": 5
}
